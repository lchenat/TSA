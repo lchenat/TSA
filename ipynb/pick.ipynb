{
 "cells": [
  {
   "cell_type": "code",
   "execution_count": 3,
   "metadata": {},
   "outputs": [
    {
     "name": "stdout",
     "output_type": "stream",
     "text": [
      "pygame 1.9.4\n",
      "Hello from the pygame community. https://www.pygame.org/contribute.html\n"
     ]
    }
   ],
   "source": [
    "import sys\n",
    "sys.path.append('../')\n",
    "from deep_rl.gridworld import ReachGridWorld, PickGridWorld, PORGBEnv, GoalManager\n",
    "import os\n",
    "import random\n",
    "import argparse\n",
    "import dill\n",
    "import json\n",
    "import itertools\n",
    "import numpy as np\n",
    "import matplotlib.pyplot as plt\n",
    "from random import shuffle\n",
    "from collections import Counter, namedtuple\n",
    "from IPython.display import display\n",
    "from PIL import Image\n",
    "from pathlib import Path\n",
    "from IPython.core.debugger import Tracer\n",
    "\n",
    "def seed(s):\n",
    "    random.seed(s)\n",
    "    np.random.seed(s)\n",
    "\n",
    "seed(0) # set seed \n",
    "\n",
    "def fload(fn, ftype):\n",
    "    if ftype == 'json':\n",
    "        with open(fn) as f:\n",
    "            return json.load(f)\n",
    "    elif ftype == 'pkl':\n",
    "        with open(fn, 'rb') as f:\n",
    "            return dill.load(f)\n",
    "    elif ftype == 'png':\n",
    "        raise NotImplementedError\n",
    "    else:\n",
    "        raise Exception('cannot read this data type: {}'.format(ftype))\n",
    "    \n",
    "def fsave(data, fn, ftype):\n",
    "    dirname = os.path.dirname(fn)\n",
    "    if not os.path.exists(dirname):\n",
    "        os.makedirs(dirname)\n",
    "    if ftype == 'json':\n",
    "        with open(fn, 'w') as f:\n",
    "            json.dump(data, f)\n",
    "    elif ftype == 'pkl':\n",
    "        with open(fn, 'wb') as f:\n",
    "            dill.dump(data, f)    \n",
    "    elif ftype == 'png':\n",
    "        Image.fromarray(data).save(fn)\n",
    "    else:\n",
    "        raise Exception('unsupported file type: {}'.format(ftype))\n",
    "        \n",
    "GoalConfig = namedtuple('GoalConfig', ['map_name', 'n_goal', 'min_dis'])  "
   ]
  },
  {
   "cell_type": "markdown",
   "metadata": {},
   "source": [
    "# Generate EnvConfig"
   ]
  },
  {
   "cell_type": "code",
   "execution_count": 11,
   "metadata": {},
   "outputs": [
    {
     "name": "stdout",
     "output_type": "stream",
     "text": [
      "{'map_names': ['map49'], 'train_combos': [(0, 1), (0, 2), (0, 3)], 'test_combos': [(0, 0)], 'num_obj_types': 5, 'obj_pos': [[(13, 6), (4, 13), (12, 2), (7, 4), (10, 14)]]}\n"
     ]
    }
   ],
   "source": [
    "seed(0) # set seed \n",
    "\n",
    "def get_pick_config(goal_config, train_combos=None):\n",
    "    MAX_OBJ_NUM = 15\n",
    "    goal_manager = GoalManager(goal_config.map_name)\n",
    "    obj_pos = goal_manager.gen_goals(MAX_OBJ_NUM + 1, min_dis=goal_config.min_dis)\n",
    "    obj_pos = [obj_pos[-1:] + obj_pos[:goal_config.n_goal-1]] # always the same test\n",
    "    if train_combos is None:\n",
    "        train_combos = [(0, i) for i in range(1, goal_config.n_goal)]\n",
    "    env_config = dict(\n",
    "        map_names = [goal_config.map_name],\n",
    "        train_combos = train_combos,\n",
    "        test_combos = [(0, 0)],\n",
    "        num_obj_types=goal_config.n_goal,\n",
    "        obj_pos=obj_pos,\n",
    "    )\n",
    "    return env_config \n",
    "\n",
    "map_name = 'map49'\n",
    "n_goal = 5\n",
    "train_idx = 4\n",
    "\n",
    "\n",
    "env_config = get_pick_config(\n",
    "    GoalConfig(\n",
    "        map_name=map_name,\n",
    "        n_goal=n_goal,\n",
    "        min_dis=4,\n",
    "    ),\n",
    "    #train_combos=[(0, train_idx)],\n",
    "    train_combos=[(0, 1), (0, 2), (0, 3)],\n",
    ")\n",
    "\n",
    "print(env_config)\n",
    "fsave(env_config, \n",
    "      #'../data/env_configs/pick/nmf/{}.{}-{}'.format(map_name, n_goal, train_idx), \n",
    "      '../data/env_configs/pick/nmf/{}.{}-f3'.format(map_name, n_goal),\n",
    "      ftype='pkl')\n"
   ]
  }
 ],
 "metadata": {
  "kernelspec": {
   "display_name": "Python 3",
   "language": "python",
   "name": "python3"
  }
 },
 "nbformat": 4,
 "nbformat_minor": 2
}
