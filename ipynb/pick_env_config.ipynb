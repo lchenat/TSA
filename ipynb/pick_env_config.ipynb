{
 "cells": [
  {
   "cell_type": "code",
   "execution_count": 2,
   "metadata": {},
   "outputs": [
    {
     "name": "stdout",
     "output_type": "stream",
     "text": [
      "pygame 1.9.4\n",
      "Hello from the pygame community. https://www.pygame.org/contribute.html\n"
     ]
    }
   ],
   "source": [
    "import sys\n",
    "sys.path.append('../')\n",
    "from deep_rl.gridworld import ReachGridWorld, PickGridWorld, PORGBEnv, GoalManager, ScaleObsEnv\n",
    "from deep_rl.network import *\n",
    "from deep_rl.utils import *\n",
    "import os\n",
    "import random\n",
    "import dill\n",
    "import json\n",
    "import numpy as np\n",
    "import matplotlib.pyplot as plt\n",
    "from collections import namedtuple\n",
    "from IPython.display import display\n",
    "from PIL import Image\n",
    "from pathlib import Path\n",
    "from IPython.core.debugger import Tracer\n",
    "\n",
    "def set_seed(s):\n",
    "    random.seed(s)\n",
    "    np.random.seed(s)\n",
    "    torch.manual_seed(s)\n",
    "\n",
    "set_seed(0) # set seed \n",
    "\n",
    "def imshow(img):\n",
    "    display(Image.fromarray(np.asarray(img).astype(np.uint8)))\n",
    "\n",
    "def fload(fn, ftype):\n",
    "    if ftype == 'json':\n",
    "        with open(fn) as f:\n",
    "            return json.load(f)\n",
    "    elif ftype == 'pkl':\n",
    "        with open(fn, 'rb') as f:\n",
    "            return dill.load(f)\n",
    "    elif ftype == 'png':\n",
    "        raise NotImplementedError\n",
    "    else:\n",
    "        raise Exception('cannot read this data type: {}'.format(ftype))\n",
    "    \n",
    "def fsave(data, fn, ftype):\n",
    "    dirname = os.path.dirname(fn)\n",
    "    if not os.path.exists(dirname):\n",
    "        os.makedirs(dirname)\n",
    "    if ftype == 'json':\n",
    "        with open(fn, 'w') as f:\n",
    "            json.dump(data, f)\n",
    "    elif ftype == 'pkl':\n",
    "        with open(fn, 'wb') as f:\n",
    "            dill.dump(data, f)    \n",
    "    elif ftype == 'png':\n",
    "        Image.fromarray(data).save(fn)\n",
    "    else:\n",
    "        raise Exception('unsupported file type: {}'.format(ftype))\n",
    "        \n",
    "GoalConfig = namedtuple('GoalConfig', ['map_name', 'n_goal', 'min_dis'])\n",
    "\n",
    "def visualize_env_config(env_config):\n",
    "    env = PORGBEnv(\n",
    "        PickGridWorld(\n",
    "            **env_config,\n",
    "            min_dis=1,\n",
    "            window=1,\n",
    "            task_length=1,\n",
    "            seed=0,\n",
    "        ),\n",
    "        l=16,\n",
    "    )\n",
    "    img = env.reset(sample_obj_pos=False)\n",
    "    imshow(img.transpose(1, 2, 0).repeat(16, 0).repeat(16, 1))\n",
    "    print(env.unwrapped.agent_pos)\n",
    "    \n",
    "def get_pick_config(goal_config, train_combos=None, seed=0):\n",
    "    MAX_OBJ_NUM = 15\n",
    "    goal_manager = GoalManager(goal_config.map_name, seed=seed)\n",
    "    obj_pos = goal_manager.gen_goals(MAX_OBJ_NUM + 1, min_dis=goal_config.min_dis)\n",
    "    obj_pos = [obj_pos[-1:] + obj_pos[:goal_config.n_goal-1]] # always the same test\n",
    "    if train_combos is None:\n",
    "        train_combos = [(0, i) for i in range(1, goal_config.n_goal)]\n",
    "    env_config = dict(\n",
    "        map_names = [goal_config.map_name],\n",
    "        train_combos = train_combos,\n",
    "        test_combos = [(0, 0)],\n",
    "        num_obj_types=goal_config.n_goal,\n",
    "        obj_pos=obj_pos,\n",
    "    )\n",
    "    return env_config "
   ]
  },
  {
   "cell_type": "markdown",
   "metadata": {},
   "source": [
    "# EnvConfig for 9 rooms"
   ]
  },
  {
   "cell_type": "code",
   "execution_count": 7,
   "metadata": {},
   "outputs": [
    {
     "name": "stdout",
     "output_type": "stream",
     "text": [
      "\u001b[33mWARN: gym.spaces.Box autodetected dtype as <class 'numpy.float32'>. Please provide explicit dtype.\u001b[0m\n",
      "maps: [(0, 'map49')]\n",
      "tasks: [(0, ('A',)), (1, ('B',)), (2, ('C',)), (3, ('D',)), (4, ('E',)), (5, ('F',)), (6, ('G',)), (7, ('H',)), (8, ('I',))]\n",
      "train: [(0, 1), (0, 2), (0, 3), (0, 4), (0, 5), (0, 6), (0, 7), (0, 8)]\n",
      "test: [(0, 0)]\n",
      "\u001b[33mWARN: gym.spaces.Box autodetected dtype as <class 'numpy.float32'>. Please provide explicit dtype.\u001b[0m\n"
     ]
    },
    {
     "data": {
      "image/png": "[encoded data removed]",
      "text/plain": [
       "<PIL.Image.Image image mode=RGB size=256x256 at 0x7F0F09EC0128>"
      ]
     },
     "metadata": {},
     "output_type": "display_data"
    },
    {
     "name": "stdout",
     "output_type": "stream",
     "text": [
      "(8, 3)\n",
      "save to ../data/env_configs/pick/nineroom/nineroom.0\n",
      "{'map_names': ['map49'], 'train_combos': [(0, 0)], 'test_combos': [(0, 0)], 'num_obj_types': 9, 'obj_pos': [[(14, 1), (9, 9), (3, 13), (9, 1), (1, 9), (4, 2), (12, 9), (13, 12), (6, 13)]]}\n",
      "save to ../data/env_configs/pick/nineroom/nineroom.1\n",
      "{'map_names': ['map49'], 'train_combos': [(0, 1)], 'test_combos': [(0, 0)], 'num_obj_types': 9, 'obj_pos': [[(14, 1), (9, 9), (3, 13), (9, 1), (1, 9), (4, 2), (12, 9), (13, 12), (6, 13)]]}\n",
      "save to ../data/env_configs/pick/nineroom/nineroom.2\n",
      "{'map_names': ['map49'], 'train_combos': [(0, 2)], 'test_combos': [(0, 0)], 'num_obj_types': 9, 'obj_pos': [[(14, 1), (9, 9), (3, 13), (9, 1), (1, 9), (4, 2), (12, 9), (13, 12), (6, 13)]]}\n",
      "save to ../data/env_configs/pick/nineroom/nineroom.3\n",
      "{'map_names': ['map49'], 'train_combos': [(0, 3)], 'test_combos': [(0, 0)], 'num_obj_types': 9, 'obj_pos': [[(14, 1), (9, 9), (3, 13), (9, 1), (1, 9), (4, 2), (12, 9), (13, 12), (6, 13)]]}\n",
      "save to ../data/env_configs/pick/nineroom/nineroom.4\n",
      "{'map_names': ['map49'], 'train_combos': [(0, 4)], 'test_combos': [(0, 0)], 'num_obj_types': 9, 'obj_pos': [[(14, 1), (9, 9), (3, 13), (9, 1), (1, 9), (4, 2), (12, 9), (13, 12), (6, 13)]]}\n",
      "save to ../data/env_configs/pick/nineroom/nineroom.5\n",
      "{'map_names': ['map49'], 'train_combos': [(0, 5)], 'test_combos': [(0, 0)], 'num_obj_types': 9, 'obj_pos': [[(14, 1), (9, 9), (3, 13), (9, 1), (1, 9), (4, 2), (12, 9), (13, 12), (6, 13)]]}\n",
      "save to ../data/env_configs/pick/nineroom/nineroom.6\n",
      "{'map_names': ['map49'], 'train_combos': [(0, 6)], 'test_combos': [(0, 0)], 'num_obj_types': 9, 'obj_pos': [[(14, 1), (9, 9), (3, 13), (9, 1), (1, 9), (4, 2), (12, 9), (13, 12), (6, 13)]]}\n",
      "save to ../data/env_configs/pick/nineroom/nineroom.7\n",
      "{'map_names': ['map49'], 'train_combos': [(0, 7)], 'test_combos': [(0, 0)], 'num_obj_types': 9, 'obj_pos': [[(14, 1), (9, 9), (3, 13), (9, 1), (1, 9), (4, 2), (12, 9), (13, 12), (6, 13)]]}\n",
      "save to ../data/env_configs/pick/nineroom/nineroom.8\n",
      "{'map_names': ['map49'], 'train_combos': [(0, 8)], 'test_combos': [(0, 0)], 'num_obj_types': 9, 'obj_pos': [[(14, 1), (9, 9), (3, 13), (9, 1), (1, 9), (4, 2), (12, 9), (13, 12), (6, 13)]]}\n",
      "save to ../data/env_configs/pick/nineroom/nineroom.e0\n",
      "{'map_names': ['map49'], 'train_combos': [(0, 1), (0, 2), (0, 3), (0, 4), (0, 5), (0, 6), (0, 7), (0, 8)], 'test_combos': [(0, 0)], 'num_obj_types': 9, 'obj_pos': [[(14, 1), (9, 9), (3, 13), (9, 1), (1, 9), (4, 2), (12, 9), (13, 12), (6, 13)]]}\n",
      "save to ../data/env_configs/pick/nineroom/nineroom.e1\n",
      "{'map_names': ['map49'], 'train_combos': [(0, 0), (0, 2), (0, 3), (0, 4), (0, 5), (0, 6), (0, 7), (0, 8)], 'test_combos': [(0, 0)], 'num_obj_types': 9, 'obj_pos': [[(14, 1), (9, 9), (3, 13), (9, 1), (1, 9), (4, 2), (12, 9), (13, 12), (6, 13)]]}\n",
      "save to ../data/env_configs/pick/nineroom/nineroom.e2\n",
      "{'map_names': ['map49'], 'train_combos': [(0, 0), (0, 1), (0, 3), (0, 4), (0, 5), (0, 6), (0, 7), (0, 8)], 'test_combos': [(0, 0)], 'num_obj_types': 9, 'obj_pos': [[(14, 1), (9, 9), (3, 13), (9, 1), (1, 9), (4, 2), (12, 9), (13, 12), (6, 13)]]}\n",
      "save to ../data/env_configs/pick/nineroom/nineroom.e3\n",
      "{'map_names': ['map49'], 'train_combos': [(0, 0), (0, 1), (0, 2), (0, 4), (0, 5), (0, 6), (0, 7), (0, 8)], 'test_combos': [(0, 0)], 'num_obj_types': 9, 'obj_pos': [[(14, 1), (9, 9), (3, 13), (9, 1), (1, 9), (4, 2), (12, 9), (13, 12), (6, 13)]]}\n",
      "save to ../data/env_configs/pick/nineroom/nineroom.e4\n",
      "{'map_names': ['map49'], 'train_combos': [(0, 0), (0, 1), (0, 2), (0, 3), (0, 5), (0, 6), (0, 7), (0, 8)], 'test_combos': [(0, 0)], 'num_obj_types': 9, 'obj_pos': [[(14, 1), (9, 9), (3, 13), (9, 1), (1, 9), (4, 2), (12, 9), (13, 12), (6, 13)]]}\n",
      "save to ../data/env_configs/pick/nineroom/nineroom.e5\n",
      "{'map_names': ['map49'], 'train_combos': [(0, 0), (0, 1), (0, 2), (0, 3), (0, 4), (0, 6), (0, 7), (0, 8)], 'test_combos': [(0, 0)], 'num_obj_types': 9, 'obj_pos': [[(14, 1), (9, 9), (3, 13), (9, 1), (1, 9), (4, 2), (12, 9), (13, 12), (6, 13)]]}\n",
      "save to ../data/env_configs/pick/nineroom/nineroom.e6\n",
      "{'map_names': ['map49'], 'train_combos': [(0, 0), (0, 1), (0, 2), (0, 3), (0, 4), (0, 5), (0, 7), (0, 8)], 'test_combos': [(0, 0)], 'num_obj_types': 9, 'obj_pos': [[(14, 1), (9, 9), (3, 13), (9, 1), (1, 9), (4, 2), (12, 9), (13, 12), (6, 13)]]}\n",
      "save to ../data/env_configs/pick/nineroom/nineroom.e7\n",
      "{'map_names': ['map49'], 'train_combos': [(0, 0), (0, 1), (0, 2), (0, 3), (0, 4), (0, 5), (0, 6), (0, 8)], 'test_combos': [(0, 0)], 'num_obj_types': 9, 'obj_pos': [[(14, 1), (9, 9), (3, 13), (9, 1), (1, 9), (4, 2), (12, 9), (13, 12), (6, 13)]]}\n",
      "save to ../data/env_configs/pick/nineroom/nineroom.e8\n",
      "{'map_names': ['map49'], 'train_combos': [(0, 0), (0, 1), (0, 2), (0, 3), (0, 4), (0, 5), (0, 6), (0, 7)], 'test_combos': [(0, 0)], 'num_obj_types': 9, 'obj_pos': [[(14, 1), (9, 9), (3, 13), (9, 1), (1, 9), (4, 2), (12, 9), (13, 12), (6, 13)]]}\n"
     ]
    }
   ],
   "source": [
    "map_name = 'map49'\n",
    "n_goal = 9\n",
    "min_dis = 5\n",
    "seed = 25 #6\n",
    "\n",
    "template_env_config_dict = dict(\n",
    "    goal_config=GoalConfig(\n",
    "        map_name=map_name,\n",
    "        n_goal=n_goal,\n",
    "        min_dis=min_dis,\n",
    "    ),\n",
    "    train_combos=None,\n",
    "    seed=seed,\n",
    ")\n",
    "\n",
    "env_config = get_pick_config(**template_env_config_dict)\n",
    "visualize_env_config(env_config)\n",
    "\n",
    "for i in range(9):\n",
    "    env_config_dict = dict(template_env_config_dict) # shallow copy\n",
    "    env_config_dict['train_combos'] = [(0, i)]\n",
    "    env_config = get_pick_config(**env_config_dict)\n",
    "    save_fn = '../data/env_configs/pick/nineroom/nineroom.{}'.format(i)\n",
    "    fsave(\n",
    "        env_config,\n",
    "        save_fn,\n",
    "        ftype='pkl',\n",
    "    )\n",
    "    print('save to {}'.format(save_fn))\n",
    "    print(env_config)\n",
    "    \n",
    "for i in range(9):\n",
    "    env_config_dict = dict(template_env_config_dict) # shallow copy\n",
    "    env_config_dict['train_combos'] = [(0, j) for j in range(9) if j != i]\n",
    "    env_config = get_pick_config(**env_config_dict)\n",
    "    save_fn = '../data/env_configs/pick/nineroom/nineroom.e{}'.format(i)\n",
    "    fsave(\n",
    "        env_config,\n",
    "        save_fn,\n",
    "        ftype='pkl',\n",
    "    )\n",
    "    print('save to {}'.format(save_fn))\n",
    "    print(env_config)\n",
    "\n",
    "# fsave(env_config, \n",
    "#       #'../data/env_configs/pick/nmf/{}.{}-{}'.format(map_name, n_goal, train_idx), \n",
    "#       '../data/env_configs/pick/nmf/{}.{}-f3'.format(map_name, n_goal),\n",
    "#       ftype='pkl')"
   ]
  },
  {
   "cell_type": "markdown",
   "metadata": {},
   "source": [
    "# EnvConfig for 4 rooms"
   ]
  },
  {
   "cell_type": "code",
   "execution_count": 3,
   "metadata": {},
   "outputs": [
    {
     "name": "stdout",
     "output_type": "stream",
     "text": [
      "\u001b[33mWARN: gym.spaces.Box autodetected dtype as <class 'numpy.float32'>. Please provide explicit dtype.\u001b[0m\n",
      "maps: [(0, 'fourroom')]\n",
      "tasks: [(0, ('A',)), (1, ('B',)), (2, ('C',)), (3, ('D',))]\n",
      "train: [(0, 1), (0, 2), (0, 3)]\n",
      "test: [(0, 0)]\n",
      "\u001b[33mWARN: gym.spaces.Box autodetected dtype as <class 'numpy.float32'>. Please provide explicit dtype.\u001b[0m\n"
     ]
    },
    {
     "data": {
      "image/png": "[encoded data removed]",
      "text/plain": [
       "<PIL.Image.Image image mode=RGB size=176x176 at 0x7FD5040C05F8>"
      ]
     },
     "metadata": {},
     "output_type": "display_data"
    },
    {
     "name": "stdout",
     "output_type": "stream",
     "text": [
      "(8, 9)\n"
     ]
    }
   ],
   "source": [
    "set_seed(0)\n",
    "\n",
    "corner = 2\n",
    "\n",
    "env_config = dict(\n",
    "    map_names=['fourroom'],\n",
    "    #train_combos=[(0, 0), (0, 1), (0, 2)],\n",
    "    train_combos=[(0, 1), (0, 2), (0, 3)],\n",
    "    test_combos=[(0, 0)],\n",
    "    num_obj_types=4,\n",
    "    obj_pos=[[(1, 1), (9, 1), (1, 9), (9, 9)]],\n",
    ")\n",
    "\n",
    "visualize_env_config(env_config)\n",
    "\n",
    "# fsave(\n",
    "#     env_config,\n",
    "#     #'../data/env_configs/pick/fourroom/f3',\n",
    "#     '../data/env_configs/pick/fourroom/l3',\n",
    "#     ftype='pkl',\n",
    "# )"
   ]
  },
  {
   "cell_type": "markdown",
   "metadata": {},
   "source": [
    "# EnvConfig for 4 rooms-16"
   ]
  },
  {
   "cell_type": "code",
   "execution_count": null,
   "metadata": {},
   "outputs": [],
   "source": [
    "set_seed(0)\n",
    "\n",
    "corner = 3\n",
    "\n",
    "env_config = dict(\n",
    "    map_names=['fourroom-16'],\n",
    "    train_combos=[(0, corner)],\n",
    "    test_combos=[(0, corner)],\n",
    "    num_obj_types=4,\n",
    "    obj_pos=[[(1, 1), (14, 1), (1, 14), (14, 14)]],\n",
    ")\n",
    "\n",
    "fsave(\n",
    "    env_config,\n",
    "    '../data/env_configs/pick/fourroom-16.{}'.format(corner),\n",
    "    ftype='pkl',\n",
    ")"
   ]
  }
 ],
 "metadata": {
  "kernelspec": {
   "display_name": "Python 3",
   "language": "python",
   "name": "python3"
  }
 },
 "nbformat": 4,
 "nbformat_minor": 2
}
