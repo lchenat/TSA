{
 "cells": [
  {
   "cell_type": "code",
   "execution_count": 15,
   "metadata": {},
   "outputs": [],
   "source": [
    "from deep_rl.simple_grid.env import DiscreteGridWorld\n",
    "from deep_rl.network import *\n",
    "from deep_rl.utils import *\n",
    "from sklearn.decomposition import NMF\n",
    "from random import shuffle\n",
    "import matplotlib.pyplot as plt\n",
    "import numpy as np\n",
    "import torch\n",
    "import torch.nn.functional as F\n",
    "\n",
    "class GridDrawer:                           \n",
    "    def __init__(self, color_list):\n",
    "        self.color_list = np.asarray(color_list)\n",
    "\n",
    "    # input: a 2-d index matrix\n",
    "    # output: a 2-d rgb matrix\n",
    "    def draw(self, indices, repeat=16):\n",
    "        return np.uint8(255 * np.array(self.color_list[indices, :]).repeat(repeat, 0).repeat(repeat, 1))\n",
    "    \n",
    "# this is my color list\n",
    "color_map = dict([\n",
    "    #*[('grey-{}'.format(v), plt.cm.Greys(0.1 * v)) for v in range(1, 20)],\n",
    "    *[('purple-{}'.format(v), plt.cm.Purples(0.05 * v)) for v in range(1, 20)],\n",
    "    *[('blue-{}'.format(v), plt.cm.Blues(0.05 * v)) for v in range(1, 20)],\n",
    "    *[('green-{}'.format(v), plt.cm.Greens(0.05 * v)) for v in range(1, 20)],\n",
    "    *[('orange-{}'.format(v), plt.cm.Oranges(0.05 * v)) for v in range(1, 20)],\n",
    "    *[('red-{}'.format(v), plt.cm.Reds(0.05 * v)) for v in range(1, 20)],\n",
    "])\n",
    "\n",
    "def imshow(img):\n",
    "    display(Image.fromarray(np.asarray(img)))\n",
    "\n",
    "color_list = list(color_map.values())\n",
    "shuffle(color_list)\n",
    "color_list = [plt.cm.Greys(0.9)] + [plt.cm.Greys(0.5)] + color_list\n",
    "drawer = GridDrawer(color_list)"
   ]
  },
  {
   "cell_type": "code",
   "execution_count": 17,
   "metadata": {},
   "outputs": [
    {
     "name": "stdout",
     "output_type": "stream",
     "text": [
      "[(1, 1), (1, 2), (1, 3), (1, 4), (1, 6), (1, 7), (1, 8), (1, 9), (2, 1), (2, 2), (2, 3), (2, 4), (2, 5), (2, 6), (2, 7), (2, 8), (2, 9), (3, 1), (3, 2), (3, 3), (3, 4), (3, 6), (3, 7), (3, 8), (3, 9), (4, 1), (4, 2), (4, 3), (4, 4), (4, 6), (4, 7), (4, 8), (4, 9), (5, 2), (5, 6), (5, 7), (5, 8), (5, 9), (6, 1), (6, 2), (6, 3), (6, 4), (6, 8), (7, 1), (7, 2), (7, 3), (7, 4), (7, 6), (7, 7), (7, 8), (7, 9), (8, 1), (8, 2), (8, 3), (8, 4), (8, 5), (8, 6), (8, 7), (8, 8), (8, 9), (9, 1), (9, 2), (9, 3), (9, 4), (9, 6), (9, 7), (9, 8)]\n",
      "n_states: 67\n"
     ]
    },
    {
     "data": {
      "image/png": "[encoded data removed]",
      "text/plain": [
       "<PIL.Image.Image image mode=RGBA size=176x176 at 0x7F60D80A90F0>"
      ]
     },
     "metadata": {},
     "output_type": "display_data"
    },
    {
     "name": "stdout",
     "output_type": "stream",
     "text": [
      "[1 8 8 8 8 7 8 6 1 1 1 1 8 8 9 8 7 3 1 1 1 8 8 8 7 8 1 1 1 1 8 6 9 2 8 3 9\n",
      " 8 2 2 0 7 8 4 2 2 2 2 2 2 7 4 4 0 2 0 2 0 7 2 4 4 4 2 2 2 2]\n",
      "{(1, 1): 1, (1, 2): 8, (1, 3): 8, (1, 4): 8, (1, 6): 8, (1, 7): 7, (1, 8): 8, (1, 9): 6, (2, 1): 1, (2, 2): 1, (2, 3): 1, (2, 4): 1, (2, 5): 8, (2, 6): 8, (2, 7): 9, (2, 8): 8, (2, 9): 7, (3, 1): 3, (3, 2): 1, (3, 3): 1, (3, 4): 1, (3, 6): 8, (3, 7): 8, (3, 8): 8, (3, 9): 7, (4, 1): 8, (4, 2): 1, (4, 3): 1, (4, 4): 1, (4, 6): 1, (4, 7): 8, (4, 8): 6, (4, 9): 9, (5, 2): 2, (5, 6): 8, (5, 7): 3, (5, 8): 9, (5, 9): 8, (6, 1): 2, (6, 2): 2, (6, 3): 0, (6, 4): 7, (6, 8): 8, (7, 1): 4, (7, 2): 2, (7, 3): 2, (7, 4): 2, (7, 6): 2, (7, 7): 2, (7, 8): 2, (7, 9): 7, (8, 1): 4, (8, 2): 4, (8, 3): 0, (8, 4): 2, (8, 5): 0, (8, 6): 2, (8, 7): 0, (8, 8): 7, (8, 9): 2, (9, 1): 4, (9, 2): 4, (9, 3): 4, (9, 4): 2, (9, 6): 2, (9, 7): 2, (9, 8): 2}\n"
     ]
    },
    {
     "data": {
      "image/png": "[encoded data removed]",
      "text/plain": [
       "<PIL.Image.Image image mode=RGBA size=176x176 at 0x7F60D80A9128>"
      ]
     },
     "metadata": {},
     "output_type": "display_data"
    }
   ],
   "source": [
    "n_abs = 10\n",
    "state_dim = 2\n",
    "n_action = 4\n",
    "\n",
    "visualization_map = dict([\n",
    "    ('G', 0), # goal\n",
    "    ('#', 1),\n",
    "    *[(str(i), i + 2) for i in range(0, 100)],\n",
    "])\n",
    "\n",
    "def get_states(env):\n",
    "    # get the whole state space\n",
    "    states = []\n",
    "    for i in range(env.size[0]):\n",
    "        for j in range(env.size[1]):\n",
    "                if env.is_valid_loc((i, j)):\n",
    "                    states.append((i, j))\n",
    "    infos = {'task_id': [0] * len(states)} \n",
    "    return states, infos\n",
    "\n",
    "def get_img(env, abs_list):\n",
    "    indices = np.zeros(env.size, dtype=np.int64)\n",
    "    k = 0\n",
    "    for i in range(env.size[0]):\n",
    "        for j in range(env.size[1]):\n",
    "            if (i, j) == env.goal:\n",
    "                indices[i, j] = 0\n",
    "            elif env.map[i][j] == '#':\n",
    "                indices[i, j] = 1\n",
    "            else:\n",
    "                indices[i, j] = visualization_map[str(2 + abs_list[k])]\n",
    "                k += 1\n",
    "\n",
    "    img = drawer.draw(indices)\n",
    "    return img\n",
    "\n",
    "env = DiscreteGridWorld('fourroom', (1, 1), (9, 9))\n",
    "decomposer = NMF(n_abs, solver='mu', beta_loss='kullback-leibler', random_state=0)\n",
    "\n",
    "expert = CategoricalActorCriticNet(\n",
    "    1,\n",
    "    state_dim,\n",
    "    n_action,\n",
    "    FCBody(\n",
    "        state_dim, \n",
    "        hidden_units=(16,)\n",
    "    ),  \n",
    ")\n",
    "# load weight\n",
    "weight_dict = expert.state_dict()\n",
    "loaded_weight_dict = {k: v for k, v in torch.load(\n",
    "    'log/grid.fourroom/fc_discrete.baseline/_/0.190228-203237/models/step-128000-mean-1.00',\n",
    "    map_location=lambda storage, loc: storage)['network'].items()\n",
    "    if k in weight_dict}\n",
    "weight_dict.update(loaded_weight_dict)\n",
    "expert.load_state_dict(weight_dict)\n",
    "\n",
    "\n",
    "states, infos = get_states(env)                \n",
    "print(states)\n",
    "print('n_states:', len(states))\n",
    "                \n",
    "actions = expert(np.array(states), infos)['a'] # maybe take the whole distribution\n",
    "\n",
    "img = get_img(env, actions.cpu().detach().numpy())\n",
    "imshow(img)\n",
    "\n",
    "pvs = F.softmax(expert.get_logits(np.array(states), infos), dim=1).cpu().detach().numpy()\n",
    "#pvs = one_hot.encode(actions, n_action).cpu().detach().numpy()\n",
    "abs_mat = decomposer.fit_transform(pvs)\n",
    "policy_mat = decomposer.components_\n",
    "\n",
    "abs_list = np.array(abs_mat).argmax(1)\n",
    "print(abs_list)\n",
    "abs_map = {s: i for s, i in zip(states, abs_list)}\n",
    "print(abs_map)\n",
    "fsave(abs_map, 'data/abs/grid/fourroom/prob.{}'.format(n_abs), 'pkl')\n",
    "\n",
    "img = get_img(env, abs_list)\n",
    "imshow(img)"
   ]
  }
 ],
 "metadata": {
  "kernelspec": {
   "display_name": "Python 3",
   "language": "python",
   "name": "python3"
  },
  "language_info": {
   "codemirror_mode": {
    "name": "ipython",
    "version": 3
   },
   "file_extension": ".py",
   "mimetype": "text/x-python",
   "name": "python",
   "nbconvert_exporter": "python",
   "pygments_lexer": "ipython3",
   "version": "3.6.8"
  }
 },
 "nbformat": 4,
 "nbformat_minor": 2
}
