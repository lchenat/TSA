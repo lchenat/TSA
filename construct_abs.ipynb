{
 "cells": [
  {
   "cell_type": "code",
   "execution_count": 29,
   "metadata": {},
   "outputs": [
    {
     "name": "stdout",
     "output_type": "stream",
     "text": [
      "### in ipython ###\n"
     ]
    }
   ],
   "source": [
    "from deep_rl.gridworld import ReachGridWorld, PORGBEnv, ReachGoalManager\n",
    "from ipdb import slaunch_ipdb_on_exception\n",
    "from random import shuffle\n",
    "from collections import Counter\n",
    "import random\n",
    "import argparse\n",
    "import dill\n",
    "import numpy as np\n",
    "import matplotlib.pyplot as plt\n",
    "\n",
    "def seed(s):\n",
    "    random.seed(s)\n",
    "    np.random.seed(s)\n",
    "    \n",
    "def in_ipy():\n",
    "    try:\n",
    "        get_ipython()\n",
    "        return True\n",
    "    except:\n",
    "        return False\n",
    "\n",
    "IN_IPY = in_ipy()\n",
    "if IN_IPY:\n",
    "    print('### in ipython ###')\n",
    "    from IPython.display import display\n",
    "    from PIL import Image\n",
    "else:\n",
    "    print('### in terminal ###')\n",
    "seed(0) # set seed\n",
    "\n",
    "parser = argparse.ArgumentParser()\n",
    "parser.add_argument('--method', choices=['cluster'], default='cluster')\n",
    "parser.add_argument('--n_goal', type=int, default=1)\n",
    "parser.add_argument('--min_dis', type=int, default=3)\n",
    "parser.add_argument('--n_abs', type=int, default=4)\n",
    "if IN_IPY:\n",
    "    args = parser.parse_args([])\n",
    "else:\n",
    "    args = parser.parse_args() \n",
    "    \n",
    "class one_hot:\n",
    "    # 1 or 2 dim\n",
    "    @staticmethod\n",
    "    def encode(indices, dim):\n",
    "        if len(indices.shape) > 1:\n",
    "            indices = indices.squeeze(axis=1)\n",
    "        assert len(indices.shape) == 1, 'shape error'\n",
    "        return np.eye(dim)[indices]\n",
    "\n",
    "    # 2-dim\n",
    "    @staticmethod\n",
    "    def decode(vs):\n",
    "        return np.argmax(vs, 1)\n",
    "\n",
    "class GridDrawer:                           \n",
    "    def __init__(self, color_list):\n",
    "        self.color_list = np.asarray(color_list)\n",
    "\n",
    "    # input: a 2-d index matrix\n",
    "    # output: a 2-d rgb matrix\n",
    "    def draw(self, indices, repeat=16):\n",
    "        return np.uint8(255 * np.array(self.color_list[indices, :]).repeat(repeat, 0).repeat(repeat, 1))\n",
    "    \n",
    "# this is my color list\n",
    "color_map = dict([\n",
    "    #*[('grey-{}'.format(v), plt.cm.Greys(0.1 * v)) for v in range(1, 10)],\n",
    "    *[('purple-{}'.format(v), plt.cm.Purples(0.1 * v)) for v in range(1, 10)],\n",
    "    *[('blue-{}'.format(v), plt.cm.Blues(0.1 * v)) for v in range(1, 10)],\n",
    "    *[('green-{}'.format(v), plt.cm.Greens(0.1 * v)) for v in range(1, 10)],\n",
    "    *[('orange-{}'.format(v), plt.cm.Oranges(0.1 * v)) for v in range(1, 10)],\n",
    "    *[('red-{}'.format(v), plt.cm.Reds(0.1 * v)) for v in range(1, 10)],\n",
    "])\n",
    "\n",
    "color_list = list(color_map.values())\n",
    "shuffle(color_list)\n",
    "color_list = [plt.cm.Greys(0.9)] + [plt.cm.Greys(0.5)] + color_list\n",
    "visualization_map = dict([\n",
    "    ('G', 0),\n",
    "    ('#', 1),\n",
    "    *[(str(i), i + 2) for i in range(0, 45)],\n",
    "])"
   ]
  },
  {
   "cell_type": "code",
   "execution_count": 33,
   "metadata": {},
   "outputs": [
    {
     "name": "stdout",
     "output_type": "stream",
     "text": [
      "\u001b[33mWARN: gym.spaces.Box autodetected dtype as <class 'numpy.float32'>. Please provide explicit dtype.\u001b[0m\n",
      "maps: [(0, 'map49')]\n",
      "train: [(0, 0)]\n",
      "test: [(0, 1)]\n",
      "{(1, 2): 0, (1, 3): 1, (1, 4): 2, (1, 5): 3, (1, 6): 4, (1, 7): 5, (1, 8): 6, (1, 9): 7, (1, 11): 8, (1, 12): 9, (1, 13): 10, (1, 14): 11, (2, 1): 12, (2, 2): 13, (2, 3): 14, (2, 4): 15, (2, 6): 16, (2, 7): 17, (2, 8): 18, (2, 9): 19, (2, 11): 20, (2, 12): 21, (2, 13): 22, (2, 14): 23, (3, 1): 24, (3, 2): 25, (3, 3): 26, (3, 4): 27, (3, 6): 28, (3, 7): 29, (3, 8): 30, (3, 9): 31, (3, 11): 32, (3, 12): 33, (3, 13): 34, (3, 14): 35, (4, 1): 36, (4, 2): 37, (4, 3): 38, (4, 4): 39, (4, 6): 40, (4, 7): 41, (4, 8): 42, (4, 9): 43, (4, 11): 44, (4, 12): 45, (4, 13): 46, (4, 14): 47, (5, 1): 48, (5, 8): 49, (5, 14): 50, (6, 1): 51, (6, 2): 52, (6, 3): 53, (6, 4): 54, (6, 6): 55, (6, 7): 56, (6, 8): 57, (6, 9): 58, (6, 11): 59, (6, 12): 60, (6, 13): 61, (6, 14): 62, (7, 1): 63, (7, 2): 64, (7, 3): 65, (7, 4): 66, (7, 6): 67, (7, 7): 68, (7, 8): 69, (7, 9): 70, (7, 11): 71, (7, 12): 72, (7, 13): 73, (7, 14): 74, (8, 1): 75, (8, 2): 76, (8, 3): 77, (8, 4): 78, (8, 6): 79, (8, 7): 80, (8, 8): 81, (8, 9): 82, (8, 11): 83, (8, 12): 84, (8, 13): 85, (8, 14): 86, (9, 1): 87, (9, 2): 88, (9, 3): 89, (9, 4): 90, (9, 6): 91, (9, 7): 92, (9, 8): 93, (9, 9): 94, (9, 10): 95, (9, 11): 96, (9, 12): 97, (9, 13): 98, (9, 14): 99, (10, 1): 100, (10, 7): 101, (10, 14): 102, (11, 1): 103, (11, 2): 104, (11, 3): 105, (11, 4): 106, (11, 6): 107, (11, 7): 108, (11, 8): 109, (11, 9): 110, (11, 11): 111, (11, 12): 112, (11, 13): 113, (11, 14): 114, (12, 1): 115, (12, 2): 116, (12, 3): 117, (12, 4): 118, (12, 6): 119, (12, 7): 120, (12, 8): 121, (12, 9): 122, (12, 11): 123, (12, 12): 124, (12, 13): 125, (12, 14): 126, (13, 1): 127, (13, 2): 128, (13, 3): 129, (13, 4): 130, (13, 6): 131, (13, 7): 132, (13, 8): 133, (13, 9): 134, (13, 11): 135, (13, 12): 136, (13, 13): 137, (13, 14): 138, (14, 1): 139, (14, 2): 140, (14, 3): 141, (14, 4): 142, (14, 6): 143, (14, 7): 144, (14, 8): 145, (14, 9): 146, (14, 11): 147, (14, 12): 148, (14, 13): 149, (14, 14): 150}\n"
     ]
    }
   ],
   "source": [
    "def cluster_abstraction(env, n_abs):\n",
    "    from sklearn.cluster import KMeans\n",
    "    n_action = env.action_space.n\n",
    "    env.reset()\n",
    "    goals = [env.i2g[combo[1]] for combo in env.train_combos]\n",
    "    states = [s for s in env.pos_candidates if s not in goals]\n",
    "    m = [[] for _ in range(len(states))]\n",
    "    for combo in env.train_combos:\n",
    "        env.reset(index=combo)\n",
    "        for i, s in enumerate(states):\n",
    "            env.teleport(*s)\n",
    "            qs = np.array(env.get_q(0.99))\n",
    "            best_actions = (qs == qs.max()).astype(int)\n",
    "            sample_action = one_hot.encode(np.random.choice(np.argwhere(best_actions).squeeze(1), size=1), n_action)[0]\n",
    "            #print('{}: {}, {}'.format(s, best_actions, sample_action))\n",
    "            m[i].append(sample_action)\n",
    "            #m[i].append(best_actions)\n",
    "    m = np.array([np.concatenate(row) for row in m])\n",
    "    kmeans = KMeans(n_clusters=n_abs, random_state=0).fit(m)\n",
    "    return {s: label for s, label in zip(states, kmeans.labels_)}\n",
    "    \n",
    "def visualize(abstract_map, env):\n",
    "    m = env.get_map(0)\n",
    "    print('labels:', set(abstract_map.values()))\n",
    "    print('count on labels:', Counter(abstract_map.values()))\n",
    "    for i in range(len(m)):\n",
    "        for j in range(len(m[i])):\n",
    "            if m[i][j] == '#': continue\n",
    "            elif (i, j) in abstract_map:\n",
    "                m[i][j] = str(abstract_map[(i, j)])\n",
    "            else:\n",
    "                m[i][j] = 'G'\n",
    "    #for row in m:\n",
    "    #    print(' '.join(row))\n",
    "    drawer = GridDrawer(color_list)\n",
    "    img = drawer.draw([[visualization_map[m[i][j]] for j in range(len(m[i]))] for i in range(len(m))])\n",
    "    display(Image.fromarray(img))\n",
    "    \n",
    "def save_abs(abs_dict, fn):\n",
    "    with open(fn, 'wb') as f:\n",
    "        dill.dump(abs_dict, f)\n",
    "    \n",
    "def load_abs(fn):\n",
    "    with open(fn, 'rb') as f:\n",
    "        return dill.load(fn)\n",
    "    \n",
    "def abs_fn(args):\n",
    "    return 'abs/{}-n_goal-{}-n_abs-{}.pkl'.format(args.method, args.n_goal, args.n_abs)\n",
    "    \n",
    "# input: an environment and the corresponding index (map_id, gx, gy)\n",
    "# output: an identity map of this map_id and task\n",
    "def get_identity_map(env, index):\n",
    "    index = (index[0], env.unwrapped.g2i[index[1:]])\n",
    "    env.reset(index=index)\n",
    "    goal = (env.unwrapped.gx, env.unwrapped.gy)\n",
    "    states = [s for s in env.pos_candidates if s != goal]\n",
    "    n_states = len(states)\n",
    "    id_map = dict([(s, i) for i, s in enumerate(states)])\n",
    "    #print(id_map)\n",
    "    return id_map\n",
    "    \n",
    "def main():\n",
    "    map_names = ['map49']\n",
    "    #goal_manager = ReachGoalManager(map_names[0])\n",
    "    # min_dis between goals (approximation of corelation)\n",
    "    #goals = goal_manager.gen_goals(args.n_goal + 1, min_dis=args.min_dis) \n",
    "    #train_combos = [(0,) + goal for goal in goals[:args.n_goal]]\n",
    "    #test_combos = [(0,) + goal for goal in goals[args.n_goal:]]\n",
    "    train_combos = [(0, 1, 1)]\n",
    "    test_combos = [(0, 2, 2)]\n",
    "    env = ReachGridWorld(map_names, train_combos, test_combos)\n",
    "    #if args.method == 'cluster':\n",
    "        # abstract_map {(x, y): abstract state index}\n",
    "        #abstract_map = cluster_abstraction(env, args.n_abs)\n",
    "    #visualize(abstract_map, env)\n",
    "    #save_abs({0: abstract_map}, os.path.join('abs', 'map49-0-1-1.pkl'))\n",
    "    save_abs({0: get_identity_map(env, (0, 1, 1))}, os.path.join('abs', 'map49-id.pkl'))\n",
    "    \n",
    "if __name__ == '__main__':\n",
    "    seed(0)\n",
    "    if in_ipy:\n",
    "        main()\n",
    "    else:\n",
    "        with slaunch_ipdb_on_exception():\n",
    "            main()"
   ]
  },
  {
   "cell_type": "code",
   "execution_count": 12,
   "metadata": {},
   "outputs": [
    {
     "name": "stdout",
     "output_type": "stream",
     "text": [
      "# of colors: 47\n"
     ]
    },
    {
     "data": {
      "image/png": "[encoded data removed]",
      "text/plain": [
       "<PIL.Image.Image image mode=RGBA size=320x128 at 0x7FD0501A5D68>"
      ]
     },
     "metadata": {},
     "output_type": "display_data"
    }
   ],
   "source": [
    "drawer = GridDrawer(color_list=color_list)\n",
    "print('# of colors:', len(drawer.color_list))\n",
    "img = Image.fromarray(drawer.draw(np.arange(40).reshape((4, 10)), repeat=32))\n",
    "#img = Image.fromarray(drawer.draw([[0, 1], [2,3]], repeat=32))\n",
    "display(img)"
   ]
  },
  {
   "cell_type": "code",
   "execution_count": 25,
   "metadata": {},
   "outputs": [
    {
     "data": {
      "text/plain": [
       "True"
      ]
     },
     "execution_count": 25,
     "metadata": {},
     "output_type": "execute_result"
    }
   ],
   "source": [
    "import torch as th\n",
    "a = th.zeros((3, 4))\n",
    "b = th.zeros((3, 4, 5)).to(a.device)\n",
    "th.is_tensor(a)"
   ]
  },
  {
   "cell_type": "code",
   "execution_count": null,
   "metadata": {},
   "outputs": [],
   "source": []
  }
 ],
 "metadata": {
  "kernelspec": {
   "display_name": "Python 3",
   "language": "python",
   "name": "python3"
  },
  "language_info": {
   "codemirror_mode": {
    "name": "ipython",
    "version": 3
   },
   "file_extension": ".py",
   "mimetype": "text/x-python",
   "name": "python",
   "nbconvert_exporter": "python",
   "pygments_lexer": "ipython3",
   "version": "3.6.7"
  }
 },
 "nbformat": 4,
 "nbformat_minor": 2
}
